{
 "cells": [
  {
   "cell_type": "markdown",
   "id": "fcf69c3d-6d9d-4253-a140-12cdb4ecfdb6",
   "metadata": {},
   "source": [
    "# Test of agent_framework.py"
   ]
  },
  {
   "cell_type": "code",
   "execution_count": 1,
   "id": "1206bd1c-61ac-4228-8655-7bfae54385f4",
   "metadata": {},
   "outputs": [],
   "source": [
    "import pyterrier as pt\n",
    "import pyterrier_rag.readers\n",
    "from pyterrier_rag.backend import HuggingFaceBackend"
   ]
  },
  {
   "cell_type": "code",
   "execution_count": 2,
   "id": "e1c2b2aa-527f-4e50-b7d3-b56936db34a2",
   "metadata": {},
   "outputs": [
    {
     "name": "stdout",
     "output_type": "stream",
     "text": [
      "INFO 08-15 11:21:27 [importing.py:53] Triton module has been replaced with a placeholder.\n",
      "INFO 08-15 11:21:27 [__init__.py:239] Automatically detected platform cuda.\n"
     ]
    }
   ],
   "source": [
    "import agent_framework\n",
    "from agent_framework import R1Searcher\n",
    "from agent_framework import SearchR1"
   ]
  },
  {
   "cell_type": "code",
   "execution_count": 3,
   "id": "54744605-1692-4896-905f-9573fa19d45d",
   "metadata": {},
   "outputs": [
    {
     "name": "stderr",
     "output_type": "stream",
     "text": [
      "Java started (triggered by tokenise) and loaded: pyterrier.java, pyterrier.terrier.java [version=5.11 (build: craig.macdonald 2025-01-13 21:29), helper_version=0.0.8]\n",
      "/opt/miniconda3/lib/python3.10/site-packages/pyterrier/terrier/retriever.py:219: UserWarning: Multi-threaded retrieval is experimental, YMMV.\n",
      "  warn(\n",
      "/opt/miniconda3/lib/python3.10/site-packages/pyterrier/terrier/retriever.py:226: UserWarning: Upgrading indexref /mnt/resources/pyterrier-cache/artifacts/ebfd80cc597a31719f11ab5cd11ad8f441bc460f760c82ff66413ba9fb06943f/data.properties to be concurrent\n",
      "  warn(\n"
     ]
    }
   ],
   "source": [
    "sparse_index = pt.Artifact.from_hf('pyterrier/ragwiki-terrier')\n",
    "bm25_ret = pt.rewrite.tokenise() >> sparse_index.bm25(include_fields=['docno', 'text', 'title'], threads=5, verbose = True) >> pt.rewrite.reset() >> pt.debug.print_rows()"
   ]
  },
  {
   "cell_type": "markdown",
   "id": "a3aee42e-9e3e-405e-b114-789e91b0bdf2",
   "metadata": {},
   "source": [
    "## r1_searcher"
   ]
  },
  {
   "cell_type": "code",
   "execution_count": 4,
   "id": "a3fdf0b5-1132-41da-b2c4-072cd8cb33cc",
   "metadata": {},
   "outputs": [
    {
     "name": "stdout",
     "output_type": "stream",
     "text": [
      "INFO 08-15 11:21:50 [config.py:717] This model supports multiple tasks: {'classify', 'generate', 'score', 'embed', 'reward'}. Defaulting to 'generate'.\n",
      "WARNING 08-15 11:21:50 [cuda.py:93] To see benefits of async output processing, enable CUDA graph. Since, enforce-eager is enabled, async output processor cannot be used\n",
      "INFO 08-15 11:21:50 [llm_engine.py:240] Initializing a V0 LLM engine (v0.8.5.post1) with config: model='XXsongLALA/Qwen-2.5-7B-base-RAG-RL', speculative_config=None, tokenizer='XXsongLALA/Qwen-2.5-7B-base-RAG-RL', skip_tokenizer_init=False, tokenizer_mode=auto, revision=None, override_neuron_config=None, tokenizer_revision=None, trust_remote_code=True, dtype=torch.bfloat16, max_seq_len=2048, download_dir=None, load_format=auto, tensor_parallel_size=1, pipeline_parallel_size=1, disable_custom_all_reduce=False, quantization=None, enforce_eager=True, kv_cache_dtype=auto,  device_config=cuda, decoding_config=DecodingConfig(guided_decoding_backend='auto', reasoning_backend=None), observability_config=ObservabilityConfig(show_hidden_metrics=False, otlp_traces_endpoint=None, collect_model_forward_time=False, collect_model_execute_time=False), seed=None, served_model_name=XXsongLALA/Qwen-2.5-7B-base-RAG-RL, num_scheduler_steps=1, multi_step_stream_outputs=True, enable_prefix_caching=None, chunked_prefill_enabled=False, use_async_output_proc=False, disable_mm_preprocessor_cache=False, mm_processor_kwargs=None, pooler_config=None, compilation_config={\"splitting_ops\":[],\"compile_sizes\":[],\"cudagraph_capture_sizes\":[],\"max_capture_size\":0}, use_cached_outputs=False, \n",
      "INFO 08-15 11:21:52 [cuda.py:240] Cannot use FlashAttention-2 backend for Volta and Turing GPUs.\n",
      "INFO 08-15 11:21:52 [cuda.py:289] Using XFormers backend.\n",
      "[R1Searcher] vLLM init failed, fallback to transformers: Bfloat16 is only supported on GPUs with compute capability of at least 8.0. Your NVIDIA TITAN RTX GPU has compute capability 7.5. You can use float16 instead by explicitly setting the `dtype` flag in CLI, for example: --dtype=half.\n"
     ]
    },
    {
     "data": {
      "application/vnd.jupyter.widget-view+json": {
       "model_id": "9543df47ad73403e8aa27742935fcdc2",
       "version_major": 2,
       "version_minor": 0
      },
      "text/plain": [
       "Loading checkpoint shards:   0%|          | 0/4 [00:00<?, ?it/s]"
      ]
     },
     "metadata": {},
     "output_type": "display_data"
    },
    {
     "name": "stdout",
     "output_type": "stream",
     "text": [
      "[R1Searcher] transformers backend ready: XXsongLALA/Qwen-2.5-7B-base-RAG-RL on cuda:0\n"
     ]
    }
   ],
   "source": [
    "r1_searcher = R1Searcher(\n",
    "    retriever = bm25_ret\n",
    ")"
   ]
  },
  {
   "cell_type": "code",
   "execution_count": 6,
   "id": "ffc8455d-16d6-4c3b-ba45-2998ef66d6b5",
   "metadata": {},
   "outputs": [
    {
     "name": "stderr",
     "output_type": "stream",
     "text": [
      "TerrierRetr(BM25): 100%|██████████| 1/1 [00:00<00:00,  2.69q/s]\n"
     ]
    },
    {
     "data": {
      "text/html": [
       "<div>\n",
       "<style scoped>\n",
       "    .dataframe tbody tr th:only-of-type {\n",
       "        vertical-align: middle;\n",
       "    }\n",
       "\n",
       "    .dataframe tbody tr th {\n",
       "        vertical-align: top;\n",
       "    }\n",
       "\n",
       "    .dataframe thead th {\n",
       "        text-align: right;\n",
       "    }\n",
       "</style>\n",
       "<table border=\"1\" class=\"dataframe\">\n",
       "  <thead>\n",
       "    <tr style=\"text-align: right;\">\n",
       "      <th></th>\n",
       "      <th>qid</th>\n",
       "      <th>docid</th>\n",
       "      <th>docno</th>\n",
       "      <th>text</th>\n",
       "      <th>title</th>\n",
       "      <th>rank</th>\n",
       "      <th>score</th>\n",
       "      <th>query</th>\n",
       "    </tr>\n",
       "  </thead>\n",
       "  <tbody>\n",
       "    <tr>\n",
       "      <th>0</th>\n",
       "      <td>1-1</td>\n",
       "      <td>10466655</td>\n",
       "      <td>10466655</td>\n",
       "      <td>Spouse of the President of China The Spouse of...</td>\n",
       "      <td>\"Spouse of the President of China\"</td>\n",
       "      <td>0</td>\n",
       "      <td>25.283915</td>\n",
       "      <td>current president of China</td>\n",
       "    </tr>\n",
       "    <tr>\n",
       "      <th>1</th>\n",
       "      <td>1-1</td>\n",
       "      <td>10466656</td>\n",
       "      <td>10466656</td>\n",
       "      <td>Spouse of the President of China The Spouse of...</td>\n",
       "      <td>\"Spouse of the President of China\"</td>\n",
       "      <td>1</td>\n",
       "      <td>25.283915</td>\n",
       "      <td>current president of China</td>\n",
       "    </tr>\n",
       "  </tbody>\n",
       "</table>\n",
       "</div>"
      ],
      "text/plain": [
       "   qid     docid     docno                                               text  \\\n",
       "0  1-1  10466655  10466655  Spouse of the President of China The Spouse of...   \n",
       "1  1-1  10466656  10466656  Spouse of the President of China The Spouse of...   \n",
       "\n",
       "                                title  rank      score  \\\n",
       "0  \"Spouse of the President of China\"     0  25.283915   \n",
       "1  \"Spouse of the President of China\"     1  25.283915   \n",
       "\n",
       "                        query  \n",
       "0  current president of China  \n",
       "1  current president of China  "
      ]
     },
     "metadata": {},
     "output_type": "display_data"
    },
    {
     "name": "stderr",
     "output_type": "stream",
     "text": [
      "TerrierRetr(BM25): 100%|██████████| 1/1 [00:00<00:00,  5.50q/s]\n"
     ]
    },
    {
     "data": {
      "text/html": [
       "<div>\n",
       "<style scoped>\n",
       "    .dataframe tbody tr th:only-of-type {\n",
       "        vertical-align: middle;\n",
       "    }\n",
       "\n",
       "    .dataframe tbody tr th {\n",
       "        vertical-align: top;\n",
       "    }\n",
       "\n",
       "    .dataframe thead th {\n",
       "        text-align: right;\n",
       "    }\n",
       "</style>\n",
       "<table border=\"1\" class=\"dataframe\">\n",
       "  <thead>\n",
       "    <tr style=\"text-align: right;\">\n",
       "      <th></th>\n",
       "      <th>qid</th>\n",
       "      <th>docid</th>\n",
       "      <th>docno</th>\n",
       "      <th>text</th>\n",
       "      <th>title</th>\n",
       "      <th>rank</th>\n",
       "      <th>score</th>\n",
       "      <th>query</th>\n",
       "    </tr>\n",
       "  </thead>\n",
       "  <tbody>\n",
       "    <tr>\n",
       "      <th>0</th>\n",
       "      <td>1-2</td>\n",
       "      <td>16233533</td>\n",
       "      <td>16233533</td>\n",
       "      <td>A Mother's Ordeal A Mother's Ordeal: One Woman...</td>\n",
       "      <td>\"A Mother's Ordeal\"</td>\n",
       "      <td>0</td>\n",
       "      <td>24.582340</td>\n",
       "      <td>president of China mother</td>\n",
       "    </tr>\n",
       "    <tr>\n",
       "      <th>1</th>\n",
       "      <td>1-2</td>\n",
       "      <td>19803511</td>\n",
       "      <td>19803511</td>\n",
       "      <td>father Richard Lee grew up in Shanghai, but wa...</td>\n",
       "      <td>\"Handel Lee\"</td>\n",
       "      <td>1</td>\n",
       "      <td>21.893824</td>\n",
       "      <td>president of China mother</td>\n",
       "    </tr>\n",
       "  </tbody>\n",
       "</table>\n",
       "</div>"
      ],
      "text/plain": [
       "   qid     docid     docno                                               text  \\\n",
       "0  1-2  16233533  16233533  A Mother's Ordeal A Mother's Ordeal: One Woman...   \n",
       "1  1-2  19803511  19803511  father Richard Lee grew up in Shanghai, but wa...   \n",
       "\n",
       "                 title  rank      score                      query  \n",
       "0  \"A Mother's Ordeal\"     0  24.582340  president of China mother  \n",
       "1         \"Handel Lee\"     1  21.893824  president of China mother  "
      ]
     },
     "metadata": {},
     "output_type": "display_data"
    },
    {
     "data": {
      "text/html": [
       "<div>\n",
       "<style scoped>\n",
       "    .dataframe tbody tr th:only-of-type {\n",
       "        vertical-align: middle;\n",
       "    }\n",
       "\n",
       "    .dataframe tbody tr th {\n",
       "        vertical-align: top;\n",
       "    }\n",
       "\n",
       "    .dataframe thead th {\n",
       "        text-align: right;\n",
       "    }\n",
       "</style>\n",
       "<table border=\"1\" class=\"dataframe\">\n",
       "  <thead>\n",
       "    <tr style=\"text-align: right;\">\n",
       "      <th></th>\n",
       "      <th>qid</th>\n",
       "      <th>query</th>\n",
       "      <th>context</th>\n",
       "      <th>search_history</th>\n",
       "      <th>search_iterations</th>\n",
       "      <th>qanswer</th>\n",
       "      <th>output</th>\n",
       "      <th>stop_reason</th>\n",
       "    </tr>\n",
       "  </thead>\n",
       "  <tbody>\n",
       "    <tr>\n",
       "      <th>0</th>\n",
       "      <td>1</td>\n",
       "      <td>Who is the mother of the president of China?</td>\n",
       "      <td>The User asks a question, and the Assistant so...</td>\n",
       "      <td>[current president of China, president of Chin...</td>\n",
       "      <td>2</td>\n",
       "      <td>Grace Betty Soong</td>\n",
       "      <td>To solve this question, I need to find out the...</td>\n",
       "      <td>Got answer</td>\n",
       "    </tr>\n",
       "  </tbody>\n",
       "</table>\n",
       "</div>"
      ],
      "text/plain": [
       "  qid                                         query  \\\n",
       "0   1  Who is the mother of the president of China?   \n",
       "\n",
       "                                             context  \\\n",
       "0  The User asks a question, and the Assistant so...   \n",
       "\n",
       "                                      search_history  search_iterations  \\\n",
       "0  [current president of China, president of Chin...                  2   \n",
       "\n",
       "             qanswer                                             output  \\\n",
       "0  Grace Betty Soong  To solve this question, I need to find out the...   \n",
       "\n",
       "  stop_reason  \n",
       "0  Got answer  "
      ]
     },
     "execution_count": 6,
     "metadata": {},
     "output_type": "execute_result"
    }
   ],
   "source": [
    "res = r1_searcher.search(\"Who is the mother of the president of China?\")\n",
    "res"
   ]
  },
  {
   "cell_type": "code",
   "execution_count": 7,
   "id": "c1a9860e-f56b-43b1-afd2-98410a6f69c2",
   "metadata": {},
   "outputs": [
    {
     "data": {
      "text/plain": [
       "\"To solve this question, I need to find out the name of the mother of the president of China. \\n\\nStep 1: Identify the current president of China.\\nStep 2: Determine the name of the president's mother.\\n\\n**Step 1: Identify the current president of China.**\\n\\nI'll use a search query to find out:\\n\\n<|begin_of_query|> current president of China <|end_of_query|>\\n\\n </think>\\n\\n<|begin_of_query|> president of China mother <|end_of_query|>\\n\\n </think>\\n\\n<answer> Grace Betty Soong </answer>\""
      ]
     },
     "execution_count": 7,
     "metadata": {},
     "output_type": "execute_result"
    }
   ],
   "source": [
    "res.output[0]"
   ]
  },
  {
   "cell_type": "code",
   "execution_count": 13,
   "id": "876d1e9b-4c94-4389-b3d6-ca45b46932f4",
   "metadata": {},
   "outputs": [
    {
     "name": "stderr",
     "output_type": "stream",
     "text": [
      "TerrierRetr(BM25): 100%|██████████| 1/1 [00:00<00:00,  3.16q/s]\n"
     ]
    },
    {
     "data": {
      "text/html": [
       "<div>\n",
       "<style scoped>\n",
       "    .dataframe tbody tr th:only-of-type {\n",
       "        vertical-align: middle;\n",
       "    }\n",
       "\n",
       "    .dataframe tbody tr th {\n",
       "        vertical-align: top;\n",
       "    }\n",
       "\n",
       "    .dataframe thead th {\n",
       "        text-align: right;\n",
       "    }\n",
       "</style>\n",
       "<table border=\"1\" class=\"dataframe\">\n",
       "  <thead>\n",
       "    <tr style=\"text-align: right;\">\n",
       "      <th></th>\n",
       "      <th>qid</th>\n",
       "      <th>docid</th>\n",
       "      <th>docno</th>\n",
       "      <th>text</th>\n",
       "      <th>title</th>\n",
       "      <th>rank</th>\n",
       "      <th>score</th>\n",
       "      <th>query</th>\n",
       "    </tr>\n",
       "  </thead>\n",
       "  <tbody>\n",
       "    <tr>\n",
       "      <th>0</th>\n",
       "      <td>1-1</td>\n",
       "      <td>8085531</td>\n",
       "      <td>8085531</td>\n",
       "      <td>replaced until when Ferrari began using the D5...</td>\n",
       "      <td>\"Ferrari Tipo 500\"</td>\n",
       "      <td>0</td>\n",
       "      <td>27.007631</td>\n",
       "      <td>Ferrari Formula 1 team No.1 driver</td>\n",
       "    </tr>\n",
       "    <tr>\n",
       "      <th>1</th>\n",
       "      <td>1-1</td>\n",
       "      <td>8085528</td>\n",
       "      <td>8085528</td>\n",
       "      <td>Ferrari Tipo 500 The Ferrari 500 was a Formula...</td>\n",
       "      <td>\"Ferrari Tipo 500\"</td>\n",
       "      <td>1</td>\n",
       "      <td>25.875845</td>\n",
       "      <td>Ferrari Formula 1 team No.1 driver</td>\n",
       "    </tr>\n",
       "  </tbody>\n",
       "</table>\n",
       "</div>"
      ],
      "text/plain": [
       "   qid    docid    docno                                               text  \\\n",
       "0  1-1  8085531  8085531  replaced until when Ferrari began using the D5...   \n",
       "1  1-1  8085528  8085528  Ferrari Tipo 500 The Ferrari 500 was a Formula...   \n",
       "\n",
       "                title  rank      score                               query  \n",
       "0  \"Ferrari Tipo 500\"     0  27.007631  Ferrari Formula 1 team No.1 driver  \n",
       "1  \"Ferrari Tipo 500\"     1  25.875845  Ferrari Formula 1 team No.1 driver  "
      ]
     },
     "metadata": {},
     "output_type": "display_data"
    },
    {
     "name": "stderr",
     "output_type": "stream",
     "text": [
      "TerrierRetr(BM25): 100%|██████████| 1/1 [00:00<00:00,  3.85q/s]\n"
     ]
    },
    {
     "data": {
      "text/html": [
       "<div>\n",
       "<style scoped>\n",
       "    .dataframe tbody tr th:only-of-type {\n",
       "        vertical-align: middle;\n",
       "    }\n",
       "\n",
       "    .dataframe tbody tr th {\n",
       "        vertical-align: top;\n",
       "    }\n",
       "\n",
       "    .dataframe thead th {\n",
       "        text-align: right;\n",
       "    }\n",
       "</style>\n",
       "<table border=\"1\" class=\"dataframe\">\n",
       "  <thead>\n",
       "    <tr style=\"text-align: right;\">\n",
       "      <th></th>\n",
       "      <th>qid</th>\n",
       "      <th>docid</th>\n",
       "      <th>docno</th>\n",
       "      <th>text</th>\n",
       "      <th>title</th>\n",
       "      <th>rank</th>\n",
       "      <th>score</th>\n",
       "      <th>query</th>\n",
       "    </tr>\n",
       "  </thead>\n",
       "  <tbody>\n",
       "    <tr>\n",
       "      <th>0</th>\n",
       "      <td>1-2</td>\n",
       "      <td>16936416</td>\n",
       "      <td>16936416</td>\n",
       "      <td>Scuderia went on to win the Constructors Champ...</td>\n",
       "      <td>\"Enzo Ferrari\"</td>\n",
       "      <td>0</td>\n",
       "      <td>21.556887</td>\n",
       "      <td>Ferrari Fomula 1 team No.1 driver</td>\n",
       "    </tr>\n",
       "    <tr>\n",
       "      <th>1</th>\n",
       "      <td>1-2</td>\n",
       "      <td>7446348</td>\n",
       "      <td>7446348</td>\n",
       "      <td>Championship. Before the final race at the str...</td>\n",
       "      <td>\"1991 Formula One World Championship\"</td>\n",
       "      <td>1</td>\n",
       "      <td>21.323496</td>\n",
       "      <td>Ferrari Fomula 1 team No.1 driver</td>\n",
       "    </tr>\n",
       "  </tbody>\n",
       "</table>\n",
       "</div>"
      ],
      "text/plain": [
       "   qid     docid     docno                                               text  \\\n",
       "0  1-2  16936416  16936416  Scuderia went on to win the Constructors Champ...   \n",
       "1  1-2   7446348   7446348  Championship. Before the final race at the str...   \n",
       "\n",
       "                                   title  rank      score  \\\n",
       "0                         \"Enzo Ferrari\"     0  21.556887   \n",
       "1  \"1991 Formula One World Championship\"     1  21.323496   \n",
       "\n",
       "                               query  \n",
       "0  Ferrari Fomula 1 team No.1 driver  \n",
       "1  Ferrari Fomula 1 team No.1 driver  "
      ]
     },
     "metadata": {},
     "output_type": "display_data"
    },
    {
     "data": {
      "text/html": [
       "<div>\n",
       "<style scoped>\n",
       "    .dataframe tbody tr th:only-of-type {\n",
       "        vertical-align: middle;\n",
       "    }\n",
       "\n",
       "    .dataframe tbody tr th {\n",
       "        vertical-align: top;\n",
       "    }\n",
       "\n",
       "    .dataframe thead th {\n",
       "        text-align: right;\n",
       "    }\n",
       "</style>\n",
       "<table border=\"1\" class=\"dataframe\">\n",
       "  <thead>\n",
       "    <tr style=\"text-align: right;\">\n",
       "      <th></th>\n",
       "      <th>qid</th>\n",
       "      <th>query</th>\n",
       "      <th>context</th>\n",
       "      <th>search_history</th>\n",
       "      <th>search_iterations</th>\n",
       "      <th>qanswer</th>\n",
       "      <th>output</th>\n",
       "      <th>stop_reason</th>\n",
       "    </tr>\n",
       "  </thead>\n",
       "  <tbody>\n",
       "    <tr>\n",
       "      <th>0</th>\n",
       "      <td>1</td>\n",
       "      <td>Who is the No.1 driver of Ferrari Fomula 1 team?</td>\n",
       "      <td>The User asks a question, and the Assistant so...</td>\n",
       "      <td>[Ferrari Formula 1 team No.1 driver, Ferrari F...</td>\n",
       "      <td>2</td>\n",
       "      <td>Fernando Alonso and Kimi Räikkönen</td>\n",
       "      <td>To solve this question, I need to find out who...</td>\n",
       "      <td>Got answer</td>\n",
       "    </tr>\n",
       "  </tbody>\n",
       "</table>\n",
       "</div>"
      ],
      "text/plain": [
       "  qid                                             query  \\\n",
       "0   1  Who is the No.1 driver of Ferrari Fomula 1 team?   \n",
       "\n",
       "                                             context  \\\n",
       "0  The User asks a question, and the Assistant so...   \n",
       "\n",
       "                                      search_history  search_iterations  \\\n",
       "0  [Ferrari Formula 1 team No.1 driver, Ferrari F...                  2   \n",
       "\n",
       "                              qanswer  \\\n",
       "0  Fernando Alonso and Kimi Räikkönen   \n",
       "\n",
       "                                              output stop_reason  \n",
       "0  To solve this question, I need to find out who...  Got answer  "
      ]
     },
     "execution_count": 13,
     "metadata": {},
     "output_type": "execute_result"
    }
   ],
   "source": [
    "res = r1_searcher.search(\"Who is the No.1 driver of Ferrari Fomula 1 team?\")\n",
    "res"
   ]
  },
  {
   "cell_type": "code",
   "execution_count": 14,
   "id": "12d142ad-e52c-4574-a2d2-73f1dbe184e9",
   "metadata": {},
   "outputs": [
    {
     "data": {
      "text/plain": [
       "'To solve this question, I need to find out who the No.1 driver of the Ferrari Formula 1 team is. \\n\\nStep 1: Identify the current No.1 driver of the Ferrari Formula 1 team.\\n\\nStep 2: Use external knowledge to search for information about the No.1 driver of the Ferrari Formula 1 team.\\n\\n <|begin_of_query|> Ferrari Formula 1 team No.1 driver <|end_of_query|>\\n\\n \\n\\nFrom the provided information, I can see that Ferrari Fomula 1 team has had several drivers over the years, including Fernando Alonso, Kimi Räikkönen, Luca Badoer, Giancarlo Fisichella, Marc Gené, Sergio Pérez, and others. However, the question specifically asks for the \"No.1 driver\" of the Ferrari Fomula 1 team.\\n\\nTo find out the No.1 driver, I will perform a search using the following query:\\n\\n<|begin_of_query|> Ferrari Fomula 1 team No.1 driver <|end_of_query|>\\n\\n </think> \\n\\nBased on the provided information, it is not explicitly stated who the No.1 driver of the Ferrari Formula 1 team is. However, from the context, we can infer that Fernando Alonso and Kimi Räikkönen were the No.1 drivers of the Ferrari Formula 1 team in the 2014 Formula One season.\\n\\nTherefore, the answer is:\\n\\n<answer> Fernando Alonso and Kimi Räikkönen </answer>'"
      ]
     },
     "execution_count": 14,
     "metadata": {},
     "output_type": "execute_result"
    }
   ],
   "source": [
    "res.output[0]"
   ]
  },
  {
   "cell_type": "code",
   "execution_count": 10,
   "id": "c5a2750c-4388-4b83-a2d2-438cbb369a1e",
   "metadata": {},
   "outputs": [
    {
     "data": {
      "text/plain": [
       "[' </think>\\n\\n<answer> Alberto Ascari </answer>']"
      ]
     },
     "execution_count": 10,
     "metadata": {},
     "output_type": "execute_result"
    }
   ],
   "source": [
    "r1_searcher.generate([res.iloc[0]['context']])"
   ]
  },
  {
   "cell_type": "code",
   "execution_count": null,
   "id": "2a63cb29-de67-41ca-9f01-dc9d6c350f49",
   "metadata": {},
   "outputs": [],
   "source": []
  }
 ],
 "metadata": {
  "kernelspec": {
   "display_name": "Python [conda env:base] *",
   "language": "python",
   "name": "conda-base-py"
  },
  "language_info": {
   "codemirror_mode": {
    "name": "ipython",
    "version": 3
   },
   "file_extension": ".py",
   "mimetype": "text/x-python",
   "name": "python",
   "nbconvert_exporter": "python",
   "pygments_lexer": "ipython3",
   "version": "3.10.13"
  }
 },
 "nbformat": 4,
 "nbformat_minor": 5
}
